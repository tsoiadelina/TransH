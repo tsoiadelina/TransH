{
 "cells": [
  {
   "cell_type": "markdown",
   "metadata": {
    "pycharm": {
     "name": "#%% md\n"
    }
   },
   "source": [
    "# Реализация и применение алгоритма TransH для построения\n",
    "# векторного представления графов знаний"
   ]
  },
  {
   "cell_type": "markdown",
   "source": [
    "Граф мы используем его представление в виде троек h, r, t. тут формула из работы\n",
    "\n",
    "Основная задача перевести граф в эмбеддирговое пространство\n",
    "\n",
    "Пару слов о гиперплоскости какие мы будем использовать\n",
    "\n",
    "плавненько перейти к формуле проектрирования вставить формулу 3\n",
    "\n"
   ],
   "metadata": {
    "collapsed": false,
    "pycharm": {
     "name": "#%% md\n"
    }
   }
  },
  {
   "cell_type": "code",
   "execution_count": 3,
   "metadata": {
    "pycharm": {
     "name": "#%%\n"
    }
   },
   "outputs": [],
   "source": [
    "import torch.optim as optim\n",
    "import numpy as np\n",
    "import torch\n",
    "from TransH import TransH"
   ]
  },
  {
   "cell_type": "markdown",
   "metadata": {
    "pycharm": {
     "name": "#%% md\n"
    }
   },
   "source": [
    "## Модель"
   ]
  },
  {
   "cell_type": "markdown",
   "metadata": {
    "pycharm": {
     "name": "#%% md\n"
    }
   },
   "source": [
    "### Проекции на гиперплоскость\n",
    "\n",
    "$ \\displaystyle h_{\\bot} = h - w_r^{\\top}h w_r \\\\\n",
    "\\displaystyle t_{\\bot} = t - w_r^{\\top}t w_r $\n",
    "\n",
    "```\n",
    "def projected(entity: torch.Tensor, w_r: torch.Tensor):\n",
    "    w_r = functional.normalize(w_r, dim=-1)\n",
    "    return entity - torch.sum(entity * w_r, dim=1, keepdim=True) * w_r\n",
    "```"
   ]
  },
  {
   "cell_type": "markdown",
   "metadata": {
    "pycharm": {
     "name": "#%% md\n"
    }
   },
   "source": [
    "### Функция оценки\n",
    "\n",
    "$\\displaystyle  f_r(h,t) = \\Vert(h - w_r^{\\top}h w_r) + d_r - (t - w_r^{\\top}t w_r)\\Vert_2$\n",
    "\n",
    "```\n",
    " def distance(self, h: torch.Tensor, r: torch.Tensor, t: torch.Tensor):\n",
    "    head = self.entity_embedding(h)\n",
    "    w_r = self.w_r_emb(r)\n",
    "    d_r = self.d_r_emb(r)\n",
    "    tail = self.entity_embedding(t)\n",
    "\n",
    "    head_hyper = self.projected(head, w_r)\n",
    "    tail_hyper = self.projected(tail, w_r)\n",
    "\n",
    "    distance = head_hyper + d_r - tail_hyper\n",
    "    score = torch.norm(distance, dim=1)\n",
    "    return score\n",
    "```"
   ]
  },
  {
   "cell_type": "markdown",
   "metadata": {
    "pycharm": {
     "name": "#%% md\n"
    }
   },
   "source": [
    "\n",
    "### Ошибка основанная на ограничении: все эмбеддинги находятся в единичном шаре\n",
    "\n",
    "$\\displaystyle  \\forall e \\in E,\\|\\mathbf{e}\\|_{2} \\leq 1$\n",
    "\n",
    "```\n",
    "def scale_loss(embedding: torch.Tensor):\n",
    "    return torch.sum(torch.relu(torch.norm(embedding, dim=1) - 1))\n",
    "```\n"
   ]
  },
  {
   "cell_type": "markdown",
   "metadata": {
    "pycharm": {
     "name": "#%% md\n"
    }
   },
   "source": [
    "### Ошибка основанная на ограничении: вектор перемещения находится на гиперплоскости.\n",
    "\n",
    "$ \\displaystyle  \\forall r \\in R:  \\frac{\\left|\\mathbf{w}_{r}^{\\top} \\mathbf{d}_{r}\\right|} {\\left\\|\\mathbf{d}_{r}\\right\\|_{2} \\left\\|\\mathbf{w}_{r}\\right\\|_{2}} =  \\frac{\\left|\\mathbf{w}_{r}^{\\top} \\mathbf{d}_{r}\\right|} {\\left\\|\\mathbf{d}_{r}\\right\\|_{2}}\\leq \\epsilon$\n",
    "\n",
    "```\n",
    "def orthogonal_loss(self, relation_embedding: torch.Tensor, w_embedding: torch.Tensor):\n",
    "    dot = torch.sum(relation_embedding * w_embedding, dim=1) ** 2\n",
    "    norm = torch.norm(relation_embedding, dim=1) ** 2\n",
    "    loss = torch.sum(\n",
    "        torch.relu(dot / norm - torch.FloatTensor([self.epsilon]) ** 2))\n",
    "    return loss\n",
    "```\n"
   ]
  },
  {
   "cell_type": "markdown",
   "metadata": {
    "pycharm": {
     "name": "#%% md\n"
    }
   },
   "source": [
    "### Функция потерь с мягкими ограничениями.\n",
    "\n",
    "$ \\displaystyle \\mathcal{L} =\\sum_{(h, r, t) \\in \\Delta} \\sum_{\\left(h^{\\prime}, r^{\\prime}, t^{\\prime}\\right) \\in \\Delta_{(h, r, t)}^{\\prime}}\\left[f_{r}(\\mathbf{h}, \\mathbf{t})+\\gamma-f_{r^{\\prime}}\\left(\\mathbf{h}^{\\prime}, \\mathbf{t}^{\\prime}\\right)\\right]_{+}\n",
    "+C\\left\\{\\sum_{e \\in E}\\left[\\|\\mathbf{e}\\|_{2}^{2}-1\\right]_{+}+\\sum_{r \\in R}\\left[\\frac{\\left(\\mathbf{w}_{r}^{\\top} \\mathbf{d}_{r}\\right)^{2}}{\\left\\|\\mathbf{d}_{r}\\right\\|_{2}^{2}}-\\epsilon^{2}\\right]_{+}\\right\\}$\n",
    "\n",
    "```\n",
    "def loss(self, positive_triplets: torch.Tensor, negative_triplets: torch.Tensor):\n",
    "    h, r, t = torch.chunk(positive_triplets, 3, dim=1)\n",
    "    h_c, r_c, t_c = torch.chunk(negative_triplets, 3, dim=1)\n",
    "\n",
    "    positive = self.distance(h, r, t)\n",
    "    negative = self.distance(h_c, r_c, t_c)\n",
    "\n",
    "    loss = torch.relu(positive - negative + self.gamma)\n",
    "\n",
    "    entity_embedding = self.entity_embedding(torch.cat([h, t, h_c, t_c]))\n",
    "    relation_embedding = self.d_r_emb(torch.cat([r, r_c]))\n",
    "    w_embedding = self.w_r_emb(torch.cat([r, r_c]))\n",
    "\n",
    "    orthogonal_loss = self.orthogonal_loss(relation_embedding, w_embedding)\n",
    "\n",
    "    scale_loss = self.scale_loss(entity_embedding)\n",
    "\n",
    "    return loss + self.c * (scale_loss / len(entity_embedding) + orthogonal_loss / len(relation_embedding))\n",
    "\n",
    "```\n"
   ]
  },
  {
   "cell_type": "markdown",
   "metadata": {
    "pycharm": {
     "name": "#%% md\n"
    }
   },
   "source": [
    "## Данные\n",
    "Используем WordNet.\n",
    "WordNet® - это большая лексическая база данных английского языка. Существительные, глаголы, прилагательные и наречия сгруппированы в наборы когнитивных синонимов (синсетов), каждый из которых выражает отдельное понятие. Синсеты взаимосвязаны с помощью концептуально-семантических и лексических отношений.\n",
    "\n",
    "#### Пример:\n",
    "[корги + гипероним = собака]\n",
    "Гиперо́ним — слово с более широким значением, выражающее общее, родовое понятие. Собака для корги является гиперонимом, корги для собаки является гипонимом\n",
    "<img src=\"WordNet18RR/example_screen/wordnextsearch.png\" data-canonical-src=\"WordNet18RR/example_screen/wordnextsearch.png\" width=\"800\" />\n",
    "\n",
    "<img src=\"WordNet18RR/example_screen/corgi.png\"\n",
    " data-canonical-src=\"WordNet18RR/example_screen/corgi.png\" width=\"800\" />\n",
    "\n",
    "[https://wordnet.princeton.edu](https://wordnet.princeton.edu)\n",
    "[https://pytorch-geometric.readthedocs.io/en/latest/modules/datasets.html#torch_geometric.datasets.WordNet18RR](https://pytorch-geometric.readthedocs.io/en/latest/modules/datasets.html#torch_geometric.datasets.WordNet18RR)"
   ]
  },
  {
   "cell_type": "code",
   "execution_count": 4,
   "outputs": [
    {
     "data": {
      "text/plain": "Data(edge_index=[2, 93003], edge_type=[93003], train_mask=[93003], val_mask=[93003], test_mask=[93003], num_nodes=40943)"
     },
     "execution_count": 4,
     "metadata": {},
     "output_type": "execute_result"
    }
   ],
   "source": [
    "from torch_geometric.datasets import WordNet18RR\n",
    "\n",
    "WordNet18RR('./WordNet18RR')  # Автоматическая загрузка данных в папку ./WordNet18RR\n",
    "\n",
    "data = torch.load('./WordNet18RR/processed/data.pt')[0] # обращаемся к первому элементу кортежа, который является torch_geometric.data.data.Data\n",
    "data"
   ],
   "metadata": {
    "collapsed": false,
    "pycharm": {
     "name": "#%%\n"
    }
   }
  },
  {
   "cell_type": "code",
   "execution_count": 5,
   "metadata": {
    "pycharm": {
     "name": "#%%\n"
    }
   },
   "outputs": [
    {
     "name": "stdout",
     "output_type": "stream",
     "text": [
      "Тренировочных триплетов:  86835\n",
      "Валидационных триплетов:  3034\n",
      "Тестовых триплетов:  3134\n",
      "93003\n"
     ]
    }
   ],
   "source": [
    "# ведет себя как именованный кортеж. Можно обращаться к данным внутри как к атрибутам.\n",
    "entities = torch.arange(0, data.num_nodes)  # создадим id, они занумерованы от 0 до 40943\n",
    "relations = data.edge_type.unique()  # имеем 11 уникальных связей.\n",
    "\n",
    "head, tail = data.edge_index[:, data.train_mask] # оставляем только индексы для тренировочных триплетов\n",
    "relation = data.edge_type[data.train_mask]  # оставляем id для тренировочных триплетов\n",
    "train_triplets = torch.stack([head, relation, tail]).T # образуется тензор состоящий из трех одномерных тензоров head, relation, tail, по столбцам образовались тройки, при транспонировании получаем тензор где в каждой строке получается тройка.\n",
    "\n",
    "print('Тренировочных триплетов: ', train_triplets.shape[0])\n",
    "\n",
    "head_valid, tail_valid = data.edge_index[:, data.val_mask]\n",
    "relation_valid = data.edge_type[data.val_mask]\n",
    "valid_triplets = torch.stack([head_valid, relation_valid, tail_valid]).T\n",
    "\n",
    "print('Валидационных триплетов: ', valid_triplets.shape[0])\n",
    "\n",
    "head_test, tail_test = data.edge_index[:, data.test_mask]\n",
    "relation_test = data.edge_type[data.test_mask]\n",
    "test_triplets = torch.stack([head_test, relation_test, tail_test]).T\n",
    "\n",
    "print('Тестовых триплетов: ', test_triplets.shape[0])\n",
    "\n",
    "print(train_triplets.shape[0] + valid_triplets.shape[0] + test_triplets.shape[0])\n",
    "\n",
    "\n",
    "# Будем вычислять на cuda или cpu \n",
    "device = 'cuda' if torch.cuda.is_available() else 'cpu'\n",
    "train_triplets = train_triplets.to(device)\n",
    "test_triplets = test_triplets.to(device)\n",
    "valid_triplets = valid_triplets.to(device)"
   ]
  },
  {
   "cell_type": "markdown",
   "metadata": {
    "pycharm": {
     "name": "#%% md\n"
    }
   },
   "source": [
    "## Инициализируем модель"
   ]
  },
  {
   "cell_type": "markdown",
   "metadata": {
    "pycharm": {
     "name": "#%% md\n"
    }
   },
   "source": [
    "[https://docs.ampligraph.org/en/latest/experiments.html](https://docs.ampligraph.org/en/latest/experiments.html)\n",
    "настроим параметры примерно, как настраивали наши коллеги"
   ]
  },
  {
   "cell_type": "code",
   "execution_count": 4,
   "metadata": {
    "pycharm": {
     "name": "#%%\n"
    }
   },
   "outputs": [],
   "source": [
    "dimension = 256\n",
    "gamma = 2.0\n",
    "\n",
    "c = 1.0\n",
    "epsilon = 1e-5\n",
    "learning_rate = 0.01"
   ]
  },
  {
   "cell_type": "code",
   "execution_count": 5,
   "metadata": {
    "pycharm": {
     "name": "#%%\n"
    }
   },
   "outputs": [],
   "source": [
    "model = TransH(len(entities), len(relations), dimension, gamma, c, epsilon, device=device).to(device)\n",
    "optimizer = optim.Adam(model.parameters(), lr=learning_rate)\n",
    "\n",
    "# Будем уменьшать lr каждые 50 эпох. После 300 эпох отключим это. 0.1 * 0.5 ** 6 ~ 0.00016\n",
    "scheduler = optim.lr_scheduler.StepLR(optimizer, step_size=50, gamma=0.5) "
   ]
  },
  {
   "cell_type": "markdown",
   "metadata": {
    "pycharm": {
     "name": "#%% md\n"
    }
   },
   "source": [
    "## Подсчет статистик:\n",
    "1. Среднее количество хвостовых объектов на головной объект ($tph$)\n",
    "\n",
    "2. Среднее количество головных объектов на хвостовой объект ($hpt$)"
   ]
  },
  {
   "cell_type": "code",
   "execution_count": 6,
   "metadata": {
    "pycharm": {
     "name": "#%%\n"
    }
   },
   "outputs": [
    {
     "name": "stdout",
     "output_type": "stream",
     "text": [
      "tensor([0.5647, 0.5000, 0.8075, 0.0677, 0.0249, 0.8548, 0.9840, 0.9985, 0.5000,\n",
      "        0.0097, 0.5000])\n"
     ]
    }
   ],
   "source": [
    "prob_tph = torch.zeros(len(relations))\n",
    "all_relations = data.edge_type\n",
    "for i in range(len(relations)):\n",
    "    mask_i = all_relations == i  # получили булев тензор\n",
    "    head, tail = data.edge_index[:, mask_i]\n",
    "    amount_head = head.unique().shape[0]\n",
    "    amount_tail = tail.unique().shape[0]\n",
    "    tph = amount_tail / amount_head\n",
    "    hpt = amount_head / amount_tail\n",
    "    # создаем вектор нормированных статистик tph по формуле **\n",
    "    prob_tph[i] = tph / (tph + hpt)\n",
    "\n",
    "prob_tph = prob_tph.to(device)\n",
    "print(prob_tph)"
   ]
  },
  {
   "cell_type": "markdown",
   "metadata": {
    "pycharm": {
     "name": "#%% md\n"
    }
   },
   "source": [
    "### Создание отрицательных триплетов"
   ]
  },
  {
   "cell_type": "code",
   "execution_count": 7,
   "metadata": {
    "pycharm": {
     "name": "#%%\n"
    }
   },
   "outputs": [],
   "source": [
    "def gen_negative_triplets(_positive: torch.Tensor, _entities: torch.Tensor, _prob_tph: torch.Tensor):\n",
    "    \"\"\" Возвращает случайно созданные негативные триплеты \"\"\"\n",
    "    \n",
    "    # тензор _positive лежит в памяти если не сделать копию, то мы будем изменять исходный\n",
    "    # тензор а не создавать негативный\n",
    "    _negative = _positive.clone()\n",
    "    \n",
    "    p = torch.rand(_negative.shape[0]).to(device)  # генерируем вектор вероятностей \n",
    "    pr = _prob_tph[_negative[:, 1]]  # забираем метрику prob tph\n",
    "    \n",
    "    mask_replace_head = pr > p  # маска для замены head при условии что pr > p\n",
    "    \n",
    "    # заменяем головную сущность\n",
    "    random_heads = torch.randint(0, _entities.shape[0], (mask_replace_head.sum(), )).to(device)\n",
    "    _negative[mask_replace_head, 0] = random_heads\n",
    "    \n",
    "    # заменяем хвостовую сущность\n",
    "    random_tails = torch.randint(0, _entities.shape[0], ((mask_replace_head == False).sum(), )).to(device)\n",
    "    _negative[mask_replace_head == False, 2] = random_tails\n",
    "\n",
    "    return _negative.to(device)"
   ]
  },
  {
   "cell_type": "markdown",
   "metadata": {
    "pycharm": {
     "name": "#%% md\n"
    }
   },
   "source": [
    "## Обучение модели"
   ]
  },
  {
   "cell_type": "code",
   "execution_count": 8,
   "metadata": {
    "pycharm": {
     "name": "#%%\n"
    }
   },
   "outputs": [
    {
     "name": "stdout",
     "output_type": "stream",
     "text": [
      "1 1\n"
     ]
    }
   ],
   "source": [
    "epochs = 4000\n",
    "batch_size = len(train_triplets)\n",
    "n_entities = len(entities)\n",
    "\n",
    "n_batches = len(train_triplets) // batch_size\n",
    "n_valid_batch = len(valid_triplets) // batch_size + 1\n",
    "print(n_batches, n_valid_batch)"
   ]
  },
  {
   "cell_type": "code",
   "execution_count": 44,
   "metadata": {
    "pycharm": {
     "name": "#%%\n"
    }
   },
   "outputs": [
    {
     "name": "stdout",
     "output_type": "stream",
     "text": [
      "epoch:  342 | loss:  1.4129 | valid :  1.4858 | lr : 0.00015625\n",
      "Wall time: 7min 28s\n"
     ]
    }
   ],
   "source": [
    "%%time\n",
    "history = {'train history': [], 'validation history': [], 'epoch': []}\n",
    "\n",
    "least_loss = np.inf  # Будем контролировать обучение. Если эпох без улучшений больше 60 прекращаем тренировку\n",
    "count_without_update = 0\n",
    "best_model = model.state_dict()\n",
    "\n",
    "\n",
    "for epoch in range(epochs):\n",
    "\n",
    "    epoch_loss = 0\n",
    "    epoch_valid_loss = 0\n",
    "\n",
    "    for batch in range(n_batches):\n",
    "\n",
    "        # на каждой итерации создается новый батч размера batch_size состоящий из случайных триплетов\n",
    "        positive = train_triplets[torch.randint(0, len(train_triplets), (batch_size, ))] # правильные триплеты\n",
    "        negative = gen_negative_triplets(positive, entities, prob_tph)  # отрицательные триплеты\n",
    "        \n",
    "        optimizer.zero_grad()\n",
    "        \n",
    "        loss = model.loss(positive, negative)\n",
    "        loss.backward() # считает градиент по каждому параметру модели\n",
    "\n",
    "        optimizer.step()\n",
    "\n",
    "        epoch_loss += loss.item()\n",
    "    \n",
    "    # валидация\n",
    "    for batch in range(n_valid_batch):\n",
    "        positive = valid_triplets[torch.randint(0, len(valid_triplets), (batch_size, ))]\n",
    "        negative = gen_negative_triplets(positive, entities, prob_tph)\n",
    "        with torch.no_grad():\n",
    "            epoch_valid_loss += model.loss(positive, negative).item()\n",
    "\n",
    "    # усредняем ошибку по количеству батчей\n",
    "    history['train history'].append(epoch_loss / n_batches)\n",
    "    history['validation history'].append(epoch_valid_loss / n_valid_batch)\n",
    "    history['epoch'].append(epoch)\n",
    "    \n",
    "    if epoch_valid_loss < least_loss:\n",
    "        least_loss = epoch_valid_loss\n",
    "        best_model = model.state_dict()\n",
    "        count_without_update = 0\n",
    "        \n",
    "    else: \n",
    "        count_without_update += 1\n",
    "        if count_without_update >= 60:\n",
    "            model.load_state_dict(best_model)\n",
    "            break\n",
    "    \n",
    "    print(f'epoch: {epoch:4d} | loss: {epoch_loss / n_batches: 0.4f} '\n",
    "          f'| valid : {epoch_valid_loss / n_valid_batch: 0.4f} '\n",
    "          f'| lr : {optimizer.param_groups[0][\"lr\"]}', \n",
    "          end='\\r')\n",
    "    \n",
    "    if epoch < 300:\n",
    "        scheduler.step()\n",
    "        \n",
    "print()"
   ]
  },
  {
   "cell_type": "code",
   "execution_count": 45,
   "metadata": {
    "pycharm": {
     "name": "#%%\n"
    }
   },
   "outputs": [
    {
     "data": {
      "application/vnd.plotly.v1+json": {
       "config": {
        "plotlyServerURL": "https://plot.ly"
       },
       "data": [
        {
         "hovertemplate": "variable=train history<br>epoch=%{x}<br>value=%{y}<extra></extra>",
         "legendgroup": "train history",
         "line": {
          "color": "#636efa",
          "dash": "solid"
         },
         "marker": {
          "symbol": "circle"
         },
         "mode": "lines",
         "name": "train history",
         "orientation": "v",
         "showlegend": true,
         "type": "scatter",
         "x": [
          0,
          1,
          2,
          3,
          4,
          5,
          6,
          7,
          8,
          9,
          10,
          11,
          12,
          13,
          14,
          15,
          16,
          17,
          18,
          19,
          20,
          21,
          22,
          23,
          24,
          25,
          26,
          27,
          28,
          29,
          30,
          31,
          32,
          33,
          34,
          35,
          36,
          37,
          38,
          39,
          40,
          41,
          42,
          43,
          44,
          45,
          46,
          47,
          48,
          49,
          50,
          51,
          52,
          53,
          54,
          55,
          56,
          57,
          58,
          59,
          60,
          61,
          62,
          63,
          64,
          65,
          66,
          67,
          68,
          69,
          70,
          71,
          72,
          73,
          74,
          75,
          76,
          77,
          78,
          79,
          80,
          81,
          82,
          83,
          84,
          85,
          86,
          87,
          88,
          89,
          90,
          91,
          92,
          93,
          94,
          95,
          96,
          97,
          98,
          99,
          100,
          101,
          102,
          103,
          104,
          105,
          106,
          107,
          108,
          109,
          110,
          111,
          112,
          113,
          114,
          115,
          116,
          117,
          118,
          119,
          120,
          121,
          122,
          123,
          124,
          125,
          126,
          127,
          128,
          129,
          130,
          131,
          132,
          133,
          134,
          135,
          136,
          137,
          138,
          139,
          140,
          141,
          142,
          143,
          144,
          145,
          146,
          147,
          148,
          149,
          150,
          151,
          152,
          153,
          154,
          155,
          156,
          157,
          158,
          159,
          160,
          161,
          162,
          163,
          164,
          165,
          166,
          167,
          168,
          169,
          170,
          171,
          172,
          173,
          174,
          175,
          176,
          177,
          178,
          179,
          180,
          181,
          182,
          183,
          184,
          185,
          186,
          187,
          188,
          189,
          190,
          191,
          192,
          193,
          194,
          195,
          196,
          197,
          198,
          199,
          200,
          201,
          202,
          203,
          204,
          205,
          206,
          207,
          208,
          209,
          210,
          211,
          212,
          213,
          214,
          215,
          216,
          217,
          218,
          219,
          220,
          221,
          222,
          223,
          224,
          225,
          226,
          227,
          228,
          229,
          230,
          231,
          232,
          233,
          234,
          235,
          236,
          237,
          238,
          239,
          240,
          241,
          242,
          243,
          244,
          245,
          246,
          247,
          248,
          249,
          250,
          251,
          252,
          253,
          254,
          255,
          256,
          257,
          258,
          259,
          260,
          261,
          262,
          263,
          264,
          265,
          266,
          267,
          268,
          269,
          270,
          271,
          272,
          273,
          274,
          275,
          276,
          277,
          278,
          279,
          280,
          281,
          282,
          283,
          284,
          285,
          286,
          287,
          288,
          289,
          290,
          291,
          292,
          293,
          294,
          295,
          296,
          297,
          298,
          299,
          300,
          301,
          302,
          303,
          304,
          305,
          306,
          307,
          308,
          309,
          310,
          311,
          312,
          313,
          314,
          315,
          316,
          317,
          318,
          319,
          320,
          321,
          322,
          323,
          324,
          325,
          326,
          327,
          328,
          329,
          330,
          331,
          332,
          333,
          334,
          335,
          336,
          337,
          338,
          339,
          340,
          341,
          342,
          343
         ],
         "xaxis": "x",
         "y": [
          2.0021307468414307,
          1.996084213256836,
          1.8751764297485352,
          1.8296024799346924,
          1.8035004138946533,
          1.7497807741165161,
          1.6909911632537842,
          1.6555618047714233,
          1.6374090909957886,
          1.622719168663025,
          1.6013892889022827,
          1.58462393283844,
          1.5744390487670898,
          1.5673822164535522,
          1.5637165307998657,
          1.5618481636047363,
          1.5527180433273315,
          1.5496916770935059,
          1.5444931983947754,
          1.547015905380249,
          1.5445274114608765,
          1.5441956520080566,
          1.54543137550354,
          1.5495535135269165,
          1.5512042045593262,
          1.5470582246780396,
          1.5483393669128418,
          1.549536108970642,
          1.5511596202850342,
          1.5508357286453247,
          1.5505744218826294,
          1.5458101034164429,
          1.5440757274627686,
          1.5464973449707031,
          1.5427979230880737,
          1.540606141090393,
          1.5405408143997192,
          1.5357391834259033,
          1.5347779989242554,
          1.5385597944259644,
          1.532518744468689,
          1.5337913036346436,
          1.533292293548584,
          1.532450795173645,
          1.5295348167419434,
          1.5314310789108276,
          1.5310871601104736,
          1.5241189002990723,
          1.5249404907226562,
          1.531134843826294,
          1.5310088396072388,
          1.52902090549469,
          1.5294548273086548,
          1.5309553146362305,
          1.5270769596099854,
          1.535051941871643,
          1.5308212041854858,
          1.530142903327942,
          1.526863694190979,
          1.5270015001296997,
          1.525272250175476,
          1.5250263214111328,
          1.527243971824646,
          1.5262727737426758,
          1.526273488998413,
          1.5209264755249023,
          1.5281000137329102,
          1.5263066291809082,
          1.5210578441619873,
          1.5262250900268555,
          1.5233154296875,
          1.524349570274353,
          1.5215061902999878,
          1.5242807865142822,
          1.5232864618301392,
          1.5203408002853394,
          1.5184321403503418,
          1.5242669582366943,
          1.5228350162506104,
          1.5211100578308105,
          1.5205442905426025,
          1.5173516273498535,
          1.5215257406234741,
          1.5125610828399658,
          1.5171754360198975,
          1.522190809249878,
          1.5176080465316772,
          1.5106223821640015,
          1.5144017934799194,
          1.5120816230773926,
          1.5080254077911377,
          1.5121678113937378,
          1.5078622102737427,
          1.5067577362060547,
          1.5036062002182007,
          1.497334599494934,
          1.4964487552642822,
          1.495819091796875,
          1.48989737033844,
          1.4859033823013306,
          1.4796732664108276,
          1.482708215713501,
          1.4821544885635376,
          1.469712257385254,
          1.4789156913757324,
          1.4702484607696533,
          1.4736204147338867,
          1.4627983570098877,
          1.4631539583206177,
          1.4614012241363525,
          1.4596656560897827,
          1.4563798904418945,
          1.4599817991256714,
          1.4502993822097778,
          1.4523144960403442,
          1.4443039894104004,
          1.4447414875030518,
          1.4403566122055054,
          1.4429008960723877,
          1.4375437498092651,
          1.4379268884658813,
          1.4376804828643799,
          1.4344055652618408,
          1.4315836429595947,
          1.429719090461731,
          1.432138204574585,
          1.4304144382476807,
          1.4277876615524292,
          1.4296237230300903,
          1.4309040307998657,
          1.4285686016082764,
          1.4257454872131348,
          1.4228347539901733,
          1.42367684841156,
          1.4278472661972046,
          1.4227867126464844,
          1.4247866868972778,
          1.4254400730133057,
          1.4238104820251465,
          1.4250450134277344,
          1.4253195524215698,
          1.4228376150131226,
          1.4242337942123413,
          1.425796627998352,
          1.4235907793045044,
          1.4236910343170166,
          1.4266737699508667,
          1.42378568649292,
          1.4298815727233887,
          1.4274886846542358,
          1.4293105602264404,
          1.4270364046096802,
          1.4259133338928223,
          1.4202204942703247,
          1.4261131286621094,
          1.4225208759307861,
          1.4238677024841309,
          1.424933671951294,
          1.4190555810928345,
          1.4249205589294434,
          1.4217143058776855,
          1.420183539390564,
          1.4223277568817139,
          1.421417236328125,
          1.4212234020233154,
          1.4226500988006592,
          1.4211139678955078,
          1.4203619956970215,
          1.4188710451126099,
          1.4190655946731567,
          1.4231774806976318,
          1.4239777326583862,
          1.422723412513733,
          1.4231911897659302,
          1.4217835664749146,
          1.4260061979293823,
          1.4217636585235596,
          1.4236475229263306,
          1.4206061363220215,
          1.424025535583496,
          1.4200600385665894,
          1.4196232557296753,
          1.4235590696334839,
          1.4179701805114746,
          1.4252361059188843,
          1.419762372970581,
          1.4192802906036377,
          1.4181900024414062,
          1.4188474416732788,
          1.4193841218948364,
          1.4156146049499512,
          1.4171161651611328,
          1.4196571111679077,
          1.4179275035858154,
          1.4184160232543945,
          1.4182826280593872,
          1.417685627937317,
          1.41592538356781,
          1.4178868532180786,
          1.4173510074615479,
          1.4220240116119385,
          1.4209387302398682,
          1.419463872909546,
          1.4173566102981567,
          1.417362928390503,
          1.4179115295410156,
          1.4216214418411255,
          1.416773796081543,
          1.4170410633087158,
          1.4183756113052368,
          1.4151151180267334,
          1.4139405488967896,
          1.4174141883850098,
          1.4201371669769287,
          1.4141737222671509,
          1.4182486534118652,
          1.4165799617767334,
          1.4167667627334595,
          1.4210022687911987,
          1.4154033660888672,
          1.4147980213165283,
          1.4145091772079468,
          1.416007161140442,
          1.4158689975738525,
          1.4152278900146484,
          1.4152673482894897,
          1.4165518283843994,
          1.4160393476486206,
          1.415165901184082,
          1.4185559749603271,
          1.4130115509033203,
          1.4161614179611206,
          1.4142217636108398,
          1.4118170738220215,
          1.417433738708496,
          1.4120618104934692,
          1.423388123512268,
          1.4164469242095947,
          1.4188511371612549,
          1.4169375896453857,
          1.4171804189682007,
          1.419201135635376,
          1.422654390335083,
          1.4196488857269287,
          1.4176650047302246,
          1.4145559072494507,
          1.4111477136611938,
          1.4145432710647583,
          1.4150229692459106,
          1.4158672094345093,
          1.4127947092056274,
          1.4146932363510132,
          1.415397047996521,
          1.414101004600525,
          1.4169031381607056,
          1.4161182641983032,
          1.4182254076004028,
          1.413846492767334,
          1.4168636798858643,
          1.415902018547058,
          1.4124194383621216,
          1.4159581661224365,
          1.416145920753479,
          1.4146356582641602,
          1.4127192497253418,
          1.4156244993209839,
          1.4135026931762695,
          1.4153262376785278,
          1.4141141176223755,
          1.4137932062149048,
          1.4137638807296753,
          1.4099864959716797,
          1.4157384634017944,
          1.4130743741989136,
          1.4139748811721802,
          1.4130126237869263,
          1.4125564098358154,
          1.4126373529434204,
          1.4146350622177124,
          1.412696361541748,
          1.414551854133606,
          1.4138336181640625,
          1.4119316339492798,
          1.4107106924057007,
          1.4140918254852295,
          1.41054368019104,
          1.4117281436920166,
          1.4137243032455444,
          1.4118518829345703,
          1.412052035331726,
          1.4143389463424683,
          1.4122134447097778,
          1.413228154182434,
          1.413304090499878,
          1.4106873273849487,
          1.4149384498596191,
          1.4218279123306274,
          1.4215829372406006,
          1.4120807647705078,
          1.4137862920761108,
          1.413206934928894,
          1.41637122631073,
          1.4172111749649048,
          1.4131927490234375,
          1.415345311164856,
          1.4200515747070312,
          1.4163818359375,
          1.4192932844161987,
          1.4163486957550049,
          1.4152257442474365,
          1.417035698890686,
          1.4152945280075073,
          1.414180874824524,
          1.4144258499145508,
          1.4133654832839966,
          1.4137582778930664,
          1.4131263494491577,
          1.4100379943847656,
          1.4144765138626099,
          1.4138439893722534,
          1.4147683382034302,
          1.4155066013336182,
          1.4145835638046265,
          1.4123711585998535,
          1.4128919839859009,
          1.4150203466415405,
          1.4095396995544434,
          1.4143457412719727,
          1.4168206453323364,
          1.4120557308197021,
          1.4150192737579346,
          1.4151874780654907,
          1.4139518737792969,
          1.413672685623169,
          1.4144219160079956,
          1.4122015237808228,
          1.4099560976028442,
          1.4099647998809814,
          1.407503366470337,
          1.4111316204071045,
          1.4106881618499756,
          1.4121233224868774,
          1.412923812866211,
          1.4132730960845947
         ],
         "yaxis": "y"
        },
        {
         "hovertemplate": "variable=validation history<br>epoch=%{x}<br>value=%{y}<extra></extra>",
         "legendgroup": "validation history",
         "line": {
          "color": "#EF553B",
          "dash": "solid"
         },
         "marker": {
          "symbol": "circle"
         },
         "mode": "lines",
         "name": "validation history",
         "orientation": "v",
         "showlegend": true,
         "type": "scatter",
         "x": [
          0,
          1,
          2,
          3,
          4,
          5,
          6,
          7,
          8,
          9,
          10,
          11,
          12,
          13,
          14,
          15,
          16,
          17,
          18,
          19,
          20,
          21,
          22,
          23,
          24,
          25,
          26,
          27,
          28,
          29,
          30,
          31,
          32,
          33,
          34,
          35,
          36,
          37,
          38,
          39,
          40,
          41,
          42,
          43,
          44,
          45,
          46,
          47,
          48,
          49,
          50,
          51,
          52,
          53,
          54,
          55,
          56,
          57,
          58,
          59,
          60,
          61,
          62,
          63,
          64,
          65,
          66,
          67,
          68,
          69,
          70,
          71,
          72,
          73,
          74,
          75,
          76,
          77,
          78,
          79,
          80,
          81,
          82,
          83,
          84,
          85,
          86,
          87,
          88,
          89,
          90,
          91,
          92,
          93,
          94,
          95,
          96,
          97,
          98,
          99,
          100,
          101,
          102,
          103,
          104,
          105,
          106,
          107,
          108,
          109,
          110,
          111,
          112,
          113,
          114,
          115,
          116,
          117,
          118,
          119,
          120,
          121,
          122,
          123,
          124,
          125,
          126,
          127,
          128,
          129,
          130,
          131,
          132,
          133,
          134,
          135,
          136,
          137,
          138,
          139,
          140,
          141,
          142,
          143,
          144,
          145,
          146,
          147,
          148,
          149,
          150,
          151,
          152,
          153,
          154,
          155,
          156,
          157,
          158,
          159,
          160,
          161,
          162,
          163,
          164,
          165,
          166,
          167,
          168,
          169,
          170,
          171,
          172,
          173,
          174,
          175,
          176,
          177,
          178,
          179,
          180,
          181,
          182,
          183,
          184,
          185,
          186,
          187,
          188,
          189,
          190,
          191,
          192,
          193,
          194,
          195,
          196,
          197,
          198,
          199,
          200,
          201,
          202,
          203,
          204,
          205,
          206,
          207,
          208,
          209,
          210,
          211,
          212,
          213,
          214,
          215,
          216,
          217,
          218,
          219,
          220,
          221,
          222,
          223,
          224,
          225,
          226,
          227,
          228,
          229,
          230,
          231,
          232,
          233,
          234,
          235,
          236,
          237,
          238,
          239,
          240,
          241,
          242,
          243,
          244,
          245,
          246,
          247,
          248,
          249,
          250,
          251,
          252,
          253,
          254,
          255,
          256,
          257,
          258,
          259,
          260,
          261,
          262,
          263,
          264,
          265,
          266,
          267,
          268,
          269,
          270,
          271,
          272,
          273,
          274,
          275,
          276,
          277,
          278,
          279,
          280,
          281,
          282,
          283,
          284,
          285,
          286,
          287,
          288,
          289,
          290,
          291,
          292,
          293,
          294,
          295,
          296,
          297,
          298,
          299,
          300,
          301,
          302,
          303,
          304,
          305,
          306,
          307,
          308,
          309,
          310,
          311,
          312,
          313,
          314,
          315,
          316,
          317,
          318,
          319,
          320,
          321,
          322,
          323,
          324,
          325,
          326,
          327,
          328,
          329,
          330,
          331,
          332,
          333,
          334,
          335,
          336,
          337,
          338,
          339,
          340,
          341,
          342,
          343
         ],
         "xaxis": "x",
         "y": [
          2.013568162918091,
          1.9109057188034058,
          1.8782508373260498,
          1.8635919094085693,
          1.8170827627182007,
          1.7653192281723022,
          1.7358242273330688,
          1.7220566272735596,
          1.7084273099899292,
          1.6872535943984985,
          1.6683779954910278,
          1.6602338552474976,
          1.6497255563735962,
          1.6491529941558838,
          1.6412094831466675,
          1.6298279762268066,
          1.6282390356063843,
          1.6237953901290894,
          1.6222854852676392,
          1.6212055683135986,
          1.6201446056365967,
          1.621185541152954,
          1.621092677116394,
          1.625928521156311,
          1.623598337173462,
          1.6273610591888428,
          1.6204209327697754,
          1.6219232082366943,
          1.6213239431381226,
          1.6199288368225098,
          1.6191617250442505,
          1.6180739402770996,
          1.621986985206604,
          1.6194058656692505,
          1.618842363357544,
          1.6149369478225708,
          1.6119955778121948,
          1.6103274822235107,
          1.6122937202453613,
          1.6125116348266602,
          1.6131170988082886,
          1.6088706254959106,
          1.6044111251831055,
          1.6082234382629395,
          1.6005637645721436,
          1.6046725511550903,
          1.6060482263565063,
          1.6035455465316772,
          1.6001992225646973,
          1.6019219160079956,
          1.601035475730896,
          1.600770115852356,
          1.6021473407745361,
          1.6041170358657837,
          1.6028715372085571,
          1.5995694398880005,
          1.603158950805664,
          1.6008814573287964,
          1.5991895198822021,
          1.5989596843719482,
          1.5996088981628418,
          1.596664547920227,
          1.598740577697754,
          1.5955653190612793,
          1.5978293418884277,
          1.6012600660324097,
          1.598679542541504,
          1.5984861850738525,
          1.5983083248138428,
          1.5974030494689941,
          1.5945641994476318,
          1.592328667640686,
          1.5908242464065552,
          1.5898517370224,
          1.5898807048797607,
          1.5943673849105835,
          1.5922510623931885,
          1.5937093496322632,
          1.5914851427078247,
          1.5916918516159058,
          1.59304678440094,
          1.5907262563705444,
          1.5946283340454102,
          1.5930372476577759,
          1.5942691564559937,
          1.5845043659210205,
          1.5920387506484985,
          1.5928571224212646,
          1.589333176612854,
          1.5921719074249268,
          1.5873807668685913,
          1.5853277444839478,
          1.5801868438720703,
          1.5804575681686401,
          1.5790735483169556,
          1.5786091089248657,
          1.5725517272949219,
          1.572037935256958,
          1.5635439157485962,
          1.5601634979248047,
          1.556596279144287,
          1.561105489730835,
          1.546930193901062,
          1.5588579177856445,
          1.5445436239242554,
          1.5486482381820679,
          1.5419504642486572,
          1.546035885810852,
          1.5350322723388672,
          1.5348188877105713,
          1.5342901945114136,
          1.5337905883789062,
          1.5284665822982788,
          1.528505563735962,
          1.5217921733856201,
          1.5213723182678223,
          1.5208491086959839,
          1.5219221115112305,
          1.5188876390457153,
          1.5127735137939453,
          1.5168840885162354,
          1.5198460817337036,
          1.5112769603729248,
          1.5127861499786377,
          1.5082577466964722,
          1.5129172801971436,
          1.5085068941116333,
          1.5099397897720337,
          1.506063461303711,
          1.504912257194519,
          1.5102206468582153,
          1.5051130056381226,
          1.502158284187317,
          1.5048924684524536,
          1.504112958908081,
          1.503584861755371,
          1.5025007724761963,
          1.5013909339904785,
          1.504838228225708,
          1.5050487518310547,
          1.5055187940597534,
          1.5001177787780762,
          1.5011149644851685,
          1.5024226903915405,
          1.5011502504348755,
          1.5021858215332031,
          1.507253885269165,
          1.5009567737579346,
          1.498622179031372,
          1.503637433052063,
          1.505591630935669,
          1.5024399757385254,
          1.503162145614624,
          1.5008984804153442,
          1.4988397359848022,
          1.5005590915679932,
          1.4972717761993408,
          1.5012292861938477,
          1.5011645555496216,
          1.499489665031433,
          1.5018216371536255,
          1.499337911605835,
          1.5025935173034668,
          1.4956640005111694,
          1.4986196756362915,
          1.5000931024551392,
          1.4981722831726074,
          1.4981365203857422,
          1.4961063861846924,
          1.4999282360076904,
          1.5024462938308716,
          1.495652675628662,
          1.4982279539108276,
          1.4964054822921753,
          1.4969351291656494,
          1.4964503049850464,
          1.498111367225647,
          1.4982701539993286,
          1.4960980415344238,
          1.4992785453796387,
          1.4946125745773315,
          1.4948769807815552,
          1.4952571392059326,
          1.4971829652786255,
          1.4977227449417114,
          1.494766116142273,
          1.498531460762024,
          1.4963483810424805,
          1.496846318244934,
          1.4930399656295776,
          1.4936403036117554,
          1.4951640367507935,
          1.4941022396087646,
          1.4951393604278564,
          1.4969573020935059,
          1.4958720207214355,
          1.4937299489974976,
          1.492695689201355,
          1.4935067892074585,
          1.4946445226669312,
          1.4875380992889404,
          1.4921245574951172,
          1.4945515394210815,
          1.4928810596466064,
          1.4946969747543335,
          1.4962241649627686,
          1.4929651021957397,
          1.4915692806243896,
          1.4923299551010132,
          1.4940648078918457,
          1.4922308921813965,
          1.4926787614822388,
          1.4937790632247925,
          1.4928375482559204,
          1.494132161140442,
          1.4972023963928223,
          1.4917656183242798,
          1.4911904335021973,
          1.4920228719711304,
          1.4891985654830933,
          1.4908368587493896,
          1.4937152862548828,
          1.493072271347046,
          1.4900321960449219,
          1.4925023317337036,
          1.4944347143173218,
          1.4927808046340942,
          1.4934943914413452,
          1.4909172058105469,
          1.4912115335464478,
          1.4907183647155762,
          1.4889918565750122,
          1.4915300607681274,
          1.4911013841629028,
          1.4921016693115234,
          1.4990723133087158,
          1.4896767139434814,
          1.4904534816741943,
          1.4878524541854858,
          1.4900517463684082,
          1.4954270124435425,
          1.4910610914230347,
          1.4960955381393433,
          1.4877043962478638,
          1.4926429986953735,
          1.4886857271194458,
          1.4914493560791016,
          1.491411805152893,
          1.4966377019882202,
          1.4866247177124023,
          1.4905253648757935,
          1.4900633096694946,
          1.4968894720077515,
          1.4941803216934204,
          1.4898654222488403,
          1.487686038017273,
          1.4897184371948242,
          1.492818832397461,
          1.4886990785598755,
          1.487904667854309,
          1.4879553318023682,
          1.487908124923706,
          1.4875853061676025,
          1.4881398677825928,
          1.4926354885101318,
          1.489134430885315,
          1.4853068590164185,
          1.4864294528961182,
          1.4881954193115234,
          1.4865373373031616,
          1.489227056503296,
          1.49312424659729,
          1.4883514642715454,
          1.4893622398376465,
          1.490958571434021,
          1.4879124164581299,
          1.4892851114273071,
          1.4909727573394775,
          1.4931483268737793,
          1.48910391330719,
          1.4892709255218506,
          1.4858129024505615,
          1.4862282276153564,
          1.4847259521484375,
          1.4911997318267822,
          1.4895658493041992,
          1.4872208833694458,
          1.4893567562103271,
          1.4873642921447754,
          1.488706111907959,
          1.4898217916488647,
          1.4880359172821045,
          1.4905753135681152,
          1.4902886152267456,
          1.4905974864959717,
          1.4935306310653687,
          1.499846339225769,
          1.4907547235488892,
          1.4884930849075317,
          1.4904725551605225,
          1.490209937095642,
          1.4900633096694946,
          1.4853646755218506,
          1.4924545288085938,
          1.490307092666626,
          1.4852899312973022,
          1.4894697666168213,
          1.4902998208999634,
          1.4900732040405273,
          1.4938400983810425,
          1.4887762069702148,
          1.4919875860214233,
          1.489185094833374,
          1.4897174835205078,
          1.4890586137771606,
          1.4848401546478271,
          1.4879519939422607,
          1.4916046857833862,
          1.4892122745513916,
          1.4889975786209106,
          1.4868930578231812,
          1.4901341199874878,
          1.4895488023757935,
          1.4902586936950684,
          1.4898688793182373,
          1.489358901977539,
          1.4890697002410889,
          1.4903571605682373,
          1.4873583316802979,
          1.4886034727096558,
          1.4887540340423584,
          1.4893742799758911,
          1.4901021718978882,
          1.4880629777908325,
          1.4876152276992798,
          1.4906610250473022,
          1.4885780811309814,
          1.4886493682861328,
          1.487417459487915,
          1.4848942756652832,
          1.48880934715271,
          1.488257884979248,
          1.4857559204101562,
          1.4887702465057373
         ],
         "yaxis": "y"
        }
       ],
       "layout": {
        "legend": {
         "title": {
          "text": "variable"
         },
         "tracegroupgap": 0
        },
        "template": {
         "data": {
          "bar": [
           {
            "error_x": {
             "color": "#2a3f5f"
            },
            "error_y": {
             "color": "#2a3f5f"
            },
            "marker": {
             "line": {
              "color": "#E5ECF6",
              "width": 0.5
             },
             "pattern": {
              "fillmode": "overlay",
              "size": 10,
              "solidity": 0.2
             }
            },
            "type": "bar"
           }
          ],
          "barpolar": [
           {
            "marker": {
             "line": {
              "color": "#E5ECF6",
              "width": 0.5
             },
             "pattern": {
              "fillmode": "overlay",
              "size": 10,
              "solidity": 0.2
             }
            },
            "type": "barpolar"
           }
          ],
          "carpet": [
           {
            "aaxis": {
             "endlinecolor": "#2a3f5f",
             "gridcolor": "white",
             "linecolor": "white",
             "minorgridcolor": "white",
             "startlinecolor": "#2a3f5f"
            },
            "baxis": {
             "endlinecolor": "#2a3f5f",
             "gridcolor": "white",
             "linecolor": "white",
             "minorgridcolor": "white",
             "startlinecolor": "#2a3f5f"
            },
            "type": "carpet"
           }
          ],
          "choropleth": [
           {
            "colorbar": {
             "outlinewidth": 0,
             "ticks": ""
            },
            "type": "choropleth"
           }
          ],
          "contour": [
           {
            "colorbar": {
             "outlinewidth": 0,
             "ticks": ""
            },
            "colorscale": [
             [
              0,
              "#0d0887"
             ],
             [
              0.1111111111111111,
              "#46039f"
             ],
             [
              0.2222222222222222,
              "#7201a8"
             ],
             [
              0.3333333333333333,
              "#9c179e"
             ],
             [
              0.4444444444444444,
              "#bd3786"
             ],
             [
              0.5555555555555556,
              "#d8576b"
             ],
             [
              0.6666666666666666,
              "#ed7953"
             ],
             [
              0.7777777777777778,
              "#fb9f3a"
             ],
             [
              0.8888888888888888,
              "#fdca26"
             ],
             [
              1,
              "#f0f921"
             ]
            ],
            "type": "contour"
           }
          ],
          "contourcarpet": [
           {
            "colorbar": {
             "outlinewidth": 0,
             "ticks": ""
            },
            "type": "contourcarpet"
           }
          ],
          "heatmap": [
           {
            "colorbar": {
             "outlinewidth": 0,
             "ticks": ""
            },
            "colorscale": [
             [
              0,
              "#0d0887"
             ],
             [
              0.1111111111111111,
              "#46039f"
             ],
             [
              0.2222222222222222,
              "#7201a8"
             ],
             [
              0.3333333333333333,
              "#9c179e"
             ],
             [
              0.4444444444444444,
              "#bd3786"
             ],
             [
              0.5555555555555556,
              "#d8576b"
             ],
             [
              0.6666666666666666,
              "#ed7953"
             ],
             [
              0.7777777777777778,
              "#fb9f3a"
             ],
             [
              0.8888888888888888,
              "#fdca26"
             ],
             [
              1,
              "#f0f921"
             ]
            ],
            "type": "heatmap"
           }
          ],
          "heatmapgl": [
           {
            "colorbar": {
             "outlinewidth": 0,
             "ticks": ""
            },
            "colorscale": [
             [
              0,
              "#0d0887"
             ],
             [
              0.1111111111111111,
              "#46039f"
             ],
             [
              0.2222222222222222,
              "#7201a8"
             ],
             [
              0.3333333333333333,
              "#9c179e"
             ],
             [
              0.4444444444444444,
              "#bd3786"
             ],
             [
              0.5555555555555556,
              "#d8576b"
             ],
             [
              0.6666666666666666,
              "#ed7953"
             ],
             [
              0.7777777777777778,
              "#fb9f3a"
             ],
             [
              0.8888888888888888,
              "#fdca26"
             ],
             [
              1,
              "#f0f921"
             ]
            ],
            "type": "heatmapgl"
           }
          ],
          "histogram": [
           {
            "marker": {
             "pattern": {
              "fillmode": "overlay",
              "size": 10,
              "solidity": 0.2
             }
            },
            "type": "histogram"
           }
          ],
          "histogram2d": [
           {
            "colorbar": {
             "outlinewidth": 0,
             "ticks": ""
            },
            "colorscale": [
             [
              0,
              "#0d0887"
             ],
             [
              0.1111111111111111,
              "#46039f"
             ],
             [
              0.2222222222222222,
              "#7201a8"
             ],
             [
              0.3333333333333333,
              "#9c179e"
             ],
             [
              0.4444444444444444,
              "#bd3786"
             ],
             [
              0.5555555555555556,
              "#d8576b"
             ],
             [
              0.6666666666666666,
              "#ed7953"
             ],
             [
              0.7777777777777778,
              "#fb9f3a"
             ],
             [
              0.8888888888888888,
              "#fdca26"
             ],
             [
              1,
              "#f0f921"
             ]
            ],
            "type": "histogram2d"
           }
          ],
          "histogram2dcontour": [
           {
            "colorbar": {
             "outlinewidth": 0,
             "ticks": ""
            },
            "colorscale": [
             [
              0,
              "#0d0887"
             ],
             [
              0.1111111111111111,
              "#46039f"
             ],
             [
              0.2222222222222222,
              "#7201a8"
             ],
             [
              0.3333333333333333,
              "#9c179e"
             ],
             [
              0.4444444444444444,
              "#bd3786"
             ],
             [
              0.5555555555555556,
              "#d8576b"
             ],
             [
              0.6666666666666666,
              "#ed7953"
             ],
             [
              0.7777777777777778,
              "#fb9f3a"
             ],
             [
              0.8888888888888888,
              "#fdca26"
             ],
             [
              1,
              "#f0f921"
             ]
            ],
            "type": "histogram2dcontour"
           }
          ],
          "mesh3d": [
           {
            "colorbar": {
             "outlinewidth": 0,
             "ticks": ""
            },
            "type": "mesh3d"
           }
          ],
          "parcoords": [
           {
            "line": {
             "colorbar": {
              "outlinewidth": 0,
              "ticks": ""
             }
            },
            "type": "parcoords"
           }
          ],
          "pie": [
           {
            "automargin": true,
            "type": "pie"
           }
          ],
          "scatter": [
           {
            "fillpattern": {
             "fillmode": "overlay",
             "size": 10,
             "solidity": 0.2
            },
            "type": "scatter"
           }
          ],
          "scatter3d": [
           {
            "line": {
             "colorbar": {
              "outlinewidth": 0,
              "ticks": ""
             }
            },
            "marker": {
             "colorbar": {
              "outlinewidth": 0,
              "ticks": ""
             }
            },
            "type": "scatter3d"
           }
          ],
          "scattercarpet": [
           {
            "marker": {
             "colorbar": {
              "outlinewidth": 0,
              "ticks": ""
             }
            },
            "type": "scattercarpet"
           }
          ],
          "scattergeo": [
           {
            "marker": {
             "colorbar": {
              "outlinewidth": 0,
              "ticks": ""
             }
            },
            "type": "scattergeo"
           }
          ],
          "scattergl": [
           {
            "marker": {
             "colorbar": {
              "outlinewidth": 0,
              "ticks": ""
             }
            },
            "type": "scattergl"
           }
          ],
          "scattermapbox": [
           {
            "marker": {
             "colorbar": {
              "outlinewidth": 0,
              "ticks": ""
             }
            },
            "type": "scattermapbox"
           }
          ],
          "scatterpolar": [
           {
            "marker": {
             "colorbar": {
              "outlinewidth": 0,
              "ticks": ""
             }
            },
            "type": "scatterpolar"
           }
          ],
          "scatterpolargl": [
           {
            "marker": {
             "colorbar": {
              "outlinewidth": 0,
              "ticks": ""
             }
            },
            "type": "scatterpolargl"
           }
          ],
          "scatterternary": [
           {
            "marker": {
             "colorbar": {
              "outlinewidth": 0,
              "ticks": ""
             }
            },
            "type": "scatterternary"
           }
          ],
          "surface": [
           {
            "colorbar": {
             "outlinewidth": 0,
             "ticks": ""
            },
            "colorscale": [
             [
              0,
              "#0d0887"
             ],
             [
              0.1111111111111111,
              "#46039f"
             ],
             [
              0.2222222222222222,
              "#7201a8"
             ],
             [
              0.3333333333333333,
              "#9c179e"
             ],
             [
              0.4444444444444444,
              "#bd3786"
             ],
             [
              0.5555555555555556,
              "#d8576b"
             ],
             [
              0.6666666666666666,
              "#ed7953"
             ],
             [
              0.7777777777777778,
              "#fb9f3a"
             ],
             [
              0.8888888888888888,
              "#fdca26"
             ],
             [
              1,
              "#f0f921"
             ]
            ],
            "type": "surface"
           }
          ],
          "table": [
           {
            "cells": {
             "fill": {
              "color": "#EBF0F8"
             },
             "line": {
              "color": "white"
             }
            },
            "header": {
             "fill": {
              "color": "#C8D4E3"
             },
             "line": {
              "color": "white"
             }
            },
            "type": "table"
           }
          ]
         },
         "layout": {
          "annotationdefaults": {
           "arrowcolor": "#2a3f5f",
           "arrowhead": 0,
           "arrowwidth": 1
          },
          "autotypenumbers": "strict",
          "coloraxis": {
           "colorbar": {
            "outlinewidth": 0,
            "ticks": ""
           }
          },
          "colorscale": {
           "diverging": [
            [
             0,
             "#8e0152"
            ],
            [
             0.1,
             "#c51b7d"
            ],
            [
             0.2,
             "#de77ae"
            ],
            [
             0.3,
             "#f1b6da"
            ],
            [
             0.4,
             "#fde0ef"
            ],
            [
             0.5,
             "#f7f7f7"
            ],
            [
             0.6,
             "#e6f5d0"
            ],
            [
             0.7,
             "#b8e186"
            ],
            [
             0.8,
             "#7fbc41"
            ],
            [
             0.9,
             "#4d9221"
            ],
            [
             1,
             "#276419"
            ]
           ],
           "sequential": [
            [
             0,
             "#0d0887"
            ],
            [
             0.1111111111111111,
             "#46039f"
            ],
            [
             0.2222222222222222,
             "#7201a8"
            ],
            [
             0.3333333333333333,
             "#9c179e"
            ],
            [
             0.4444444444444444,
             "#bd3786"
            ],
            [
             0.5555555555555556,
             "#d8576b"
            ],
            [
             0.6666666666666666,
             "#ed7953"
            ],
            [
             0.7777777777777778,
             "#fb9f3a"
            ],
            [
             0.8888888888888888,
             "#fdca26"
            ],
            [
             1,
             "#f0f921"
            ]
           ],
           "sequentialminus": [
            [
             0,
             "#0d0887"
            ],
            [
             0.1111111111111111,
             "#46039f"
            ],
            [
             0.2222222222222222,
             "#7201a8"
            ],
            [
             0.3333333333333333,
             "#9c179e"
            ],
            [
             0.4444444444444444,
             "#bd3786"
            ],
            [
             0.5555555555555556,
             "#d8576b"
            ],
            [
             0.6666666666666666,
             "#ed7953"
            ],
            [
             0.7777777777777778,
             "#fb9f3a"
            ],
            [
             0.8888888888888888,
             "#fdca26"
            ],
            [
             1,
             "#f0f921"
            ]
           ]
          },
          "colorway": [
           "#636efa",
           "#EF553B",
           "#00cc96",
           "#ab63fa",
           "#FFA15A",
           "#19d3f3",
           "#FF6692",
           "#B6E880",
           "#FF97FF",
           "#FECB52"
          ],
          "font": {
           "color": "#2a3f5f"
          },
          "geo": {
           "bgcolor": "white",
           "lakecolor": "white",
           "landcolor": "#E5ECF6",
           "showlakes": true,
           "showland": true,
           "subunitcolor": "white"
          },
          "hoverlabel": {
           "align": "left"
          },
          "hovermode": "closest",
          "mapbox": {
           "style": "light"
          },
          "paper_bgcolor": "white",
          "plot_bgcolor": "#E5ECF6",
          "polar": {
           "angularaxis": {
            "gridcolor": "white",
            "linecolor": "white",
            "ticks": ""
           },
           "bgcolor": "#E5ECF6",
           "radialaxis": {
            "gridcolor": "white",
            "linecolor": "white",
            "ticks": ""
           }
          },
          "scene": {
           "xaxis": {
            "backgroundcolor": "#E5ECF6",
            "gridcolor": "white",
            "gridwidth": 2,
            "linecolor": "white",
            "showbackground": true,
            "ticks": "",
            "zerolinecolor": "white"
           },
           "yaxis": {
            "backgroundcolor": "#E5ECF6",
            "gridcolor": "white",
            "gridwidth": 2,
            "linecolor": "white",
            "showbackground": true,
            "ticks": "",
            "zerolinecolor": "white"
           },
           "zaxis": {
            "backgroundcolor": "#E5ECF6",
            "gridcolor": "white",
            "gridwidth": 2,
            "linecolor": "white",
            "showbackground": true,
            "ticks": "",
            "zerolinecolor": "white"
           }
          },
          "shapedefaults": {
           "line": {
            "color": "#2a3f5f"
           }
          },
          "ternary": {
           "aaxis": {
            "gridcolor": "white",
            "linecolor": "white",
            "ticks": ""
           },
           "baxis": {
            "gridcolor": "white",
            "linecolor": "white",
            "ticks": ""
           },
           "bgcolor": "#E5ECF6",
           "caxis": {
            "gridcolor": "white",
            "linecolor": "white",
            "ticks": ""
           }
          },
          "title": {
           "x": 0.05
          },
          "xaxis": {
           "automargin": true,
           "gridcolor": "white",
           "linecolor": "white",
           "ticks": "",
           "title": {
            "standoff": 15
           },
           "zerolinecolor": "white",
           "zerolinewidth": 2
          },
          "yaxis": {
           "automargin": true,
           "gridcolor": "white",
           "linecolor": "white",
           "ticks": "",
           "title": {
            "standoff": 15
           },
           "zerolinecolor": "white",
           "zerolinewidth": 2
          }
         }
        },
        "title": {
         "text": "<b>Ошибка на тренировке и валидации на эпоху обучения</b>"
        },
        "xaxis": {
         "anchor": "y",
         "domain": [
          0,
          1
         ],
         "title": {
          "text": "epoch"
         }
        },
        "yaxis": {
         "anchor": "x",
         "domain": [
          0,
          1
         ],
         "title": {
          "text": "value"
         }
        }
       }
      },
      "text/html": [
       "<div>                            <div id=\"1390d746-69dc-47dc-80ef-fd1f5fd35543\" class=\"plotly-graph-div\" style=\"height:525px; width:100%;\"></div>            <script type=\"text/javascript\">                require([\"plotly\"], function(Plotly) {                    window.PLOTLYENV=window.PLOTLYENV || {};                                    if (document.getElementById(\"1390d746-69dc-47dc-80ef-fd1f5fd35543\")) {                    Plotly.newPlot(                        \"1390d746-69dc-47dc-80ef-fd1f5fd35543\",                        [{\"hovertemplate\":\"variable=train history<br>epoch=%{x}<br>value=%{y}<extra></extra>\",\"legendgroup\":\"train history\",\"line\":{\"color\":\"#636efa\",\"dash\":\"solid\"},\"marker\":{\"symbol\":\"circle\"},\"mode\":\"lines\",\"name\":\"train history\",\"orientation\":\"v\",\"showlegend\":true,\"x\":[0,1,2,3,4,5,6,7,8,9,10,11,12,13,14,15,16,17,18,19,20,21,22,23,24,25,26,27,28,29,30,31,32,33,34,35,36,37,38,39,40,41,42,43,44,45,46,47,48,49,50,51,52,53,54,55,56,57,58,59,60,61,62,63,64,65,66,67,68,69,70,71,72,73,74,75,76,77,78,79,80,81,82,83,84,85,86,87,88,89,90,91,92,93,94,95,96,97,98,99,100,101,102,103,104,105,106,107,108,109,110,111,112,113,114,115,116,117,118,119,120,121,122,123,124,125,126,127,128,129,130,131,132,133,134,135,136,137,138,139,140,141,142,143,144,145,146,147,148,149,150,151,152,153,154,155,156,157,158,159,160,161,162,163,164,165,166,167,168,169,170,171,172,173,174,175,176,177,178,179,180,181,182,183,184,185,186,187,188,189,190,191,192,193,194,195,196,197,198,199,200,201,202,203,204,205,206,207,208,209,210,211,212,213,214,215,216,217,218,219,220,221,222,223,224,225,226,227,228,229,230,231,232,233,234,235,236,237,238,239,240,241,242,243,244,245,246,247,248,249,250,251,252,253,254,255,256,257,258,259,260,261,262,263,264,265,266,267,268,269,270,271,272,273,274,275,276,277,278,279,280,281,282,283,284,285,286,287,288,289,290,291,292,293,294,295,296,297,298,299,300,301,302,303,304,305,306,307,308,309,310,311,312,313,314,315,316,317,318,319,320,321,322,323,324,325,326,327,328,329,330,331,332,333,334,335,336,337,338,339,340,341,342,343],\"xaxis\":\"x\",\"y\":[2.0021307468414307,1.996084213256836,1.8751764297485352,1.8296024799346924,1.8035004138946533,1.7497807741165161,1.6909911632537842,1.6555618047714233,1.6374090909957886,1.622719168663025,1.6013892889022827,1.58462393283844,1.5744390487670898,1.5673822164535522,1.5637165307998657,1.5618481636047363,1.5527180433273315,1.5496916770935059,1.5444931983947754,1.547015905380249,1.5445274114608765,1.5441956520080566,1.54543137550354,1.5495535135269165,1.5512042045593262,1.5470582246780396,1.5483393669128418,1.549536108970642,1.5511596202850342,1.5508357286453247,1.5505744218826294,1.5458101034164429,1.5440757274627686,1.5464973449707031,1.5427979230880737,1.540606141090393,1.5405408143997192,1.5357391834259033,1.5347779989242554,1.5385597944259644,1.532518744468689,1.5337913036346436,1.533292293548584,1.532450795173645,1.5295348167419434,1.5314310789108276,1.5310871601104736,1.5241189002990723,1.5249404907226562,1.531134843826294,1.5310088396072388,1.52902090549469,1.5294548273086548,1.5309553146362305,1.5270769596099854,1.535051941871643,1.5308212041854858,1.530142903327942,1.526863694190979,1.5270015001296997,1.525272250175476,1.5250263214111328,1.527243971824646,1.5262727737426758,1.526273488998413,1.5209264755249023,1.5281000137329102,1.5263066291809082,1.5210578441619873,1.5262250900268555,1.5233154296875,1.524349570274353,1.5215061902999878,1.5242807865142822,1.5232864618301392,1.5203408002853394,1.5184321403503418,1.5242669582366943,1.5228350162506104,1.5211100578308105,1.5205442905426025,1.5173516273498535,1.5215257406234741,1.5125610828399658,1.5171754360198975,1.522190809249878,1.5176080465316772,1.5106223821640015,1.5144017934799194,1.5120816230773926,1.5080254077911377,1.5121678113937378,1.5078622102737427,1.5067577362060547,1.5036062002182007,1.497334599494934,1.4964487552642822,1.495819091796875,1.48989737033844,1.4859033823013306,1.4796732664108276,1.482708215713501,1.4821544885635376,1.469712257385254,1.4789156913757324,1.4702484607696533,1.4736204147338867,1.4627983570098877,1.4631539583206177,1.4614012241363525,1.4596656560897827,1.4563798904418945,1.4599817991256714,1.4502993822097778,1.4523144960403442,1.4443039894104004,1.4447414875030518,1.4403566122055054,1.4429008960723877,1.4375437498092651,1.4379268884658813,1.4376804828643799,1.4344055652618408,1.4315836429595947,1.429719090461731,1.432138204574585,1.4304144382476807,1.4277876615524292,1.4296237230300903,1.4309040307998657,1.4285686016082764,1.4257454872131348,1.4228347539901733,1.42367684841156,1.4278472661972046,1.4227867126464844,1.4247866868972778,1.4254400730133057,1.4238104820251465,1.4250450134277344,1.4253195524215698,1.4228376150131226,1.4242337942123413,1.425796627998352,1.4235907793045044,1.4236910343170166,1.4266737699508667,1.42378568649292,1.4298815727233887,1.4274886846542358,1.4293105602264404,1.4270364046096802,1.4259133338928223,1.4202204942703247,1.4261131286621094,1.4225208759307861,1.4238677024841309,1.424933671951294,1.4190555810928345,1.4249205589294434,1.4217143058776855,1.420183539390564,1.4223277568817139,1.421417236328125,1.4212234020233154,1.4226500988006592,1.4211139678955078,1.4203619956970215,1.4188710451126099,1.4190655946731567,1.4231774806976318,1.4239777326583862,1.422723412513733,1.4231911897659302,1.4217835664749146,1.4260061979293823,1.4217636585235596,1.4236475229263306,1.4206061363220215,1.424025535583496,1.4200600385665894,1.4196232557296753,1.4235590696334839,1.4179701805114746,1.4252361059188843,1.419762372970581,1.4192802906036377,1.4181900024414062,1.4188474416732788,1.4193841218948364,1.4156146049499512,1.4171161651611328,1.4196571111679077,1.4179275035858154,1.4184160232543945,1.4182826280593872,1.417685627937317,1.41592538356781,1.4178868532180786,1.4173510074615479,1.4220240116119385,1.4209387302398682,1.419463872909546,1.4173566102981567,1.417362928390503,1.4179115295410156,1.4216214418411255,1.416773796081543,1.4170410633087158,1.4183756113052368,1.4151151180267334,1.4139405488967896,1.4174141883850098,1.4201371669769287,1.4141737222671509,1.4182486534118652,1.4165799617767334,1.4167667627334595,1.4210022687911987,1.4154033660888672,1.4147980213165283,1.4145091772079468,1.416007161140442,1.4158689975738525,1.4152278900146484,1.4152673482894897,1.4165518283843994,1.4160393476486206,1.415165901184082,1.4185559749603271,1.4130115509033203,1.4161614179611206,1.4142217636108398,1.4118170738220215,1.417433738708496,1.4120618104934692,1.423388123512268,1.4164469242095947,1.4188511371612549,1.4169375896453857,1.4171804189682007,1.419201135635376,1.422654390335083,1.4196488857269287,1.4176650047302246,1.4145559072494507,1.4111477136611938,1.4145432710647583,1.4150229692459106,1.4158672094345093,1.4127947092056274,1.4146932363510132,1.415397047996521,1.414101004600525,1.4169031381607056,1.4161182641983032,1.4182254076004028,1.413846492767334,1.4168636798858643,1.415902018547058,1.4124194383621216,1.4159581661224365,1.416145920753479,1.4146356582641602,1.4127192497253418,1.4156244993209839,1.4135026931762695,1.4153262376785278,1.4141141176223755,1.4137932062149048,1.4137638807296753,1.4099864959716797,1.4157384634017944,1.4130743741989136,1.4139748811721802,1.4130126237869263,1.4125564098358154,1.4126373529434204,1.4146350622177124,1.412696361541748,1.414551854133606,1.4138336181640625,1.4119316339492798,1.4107106924057007,1.4140918254852295,1.41054368019104,1.4117281436920166,1.4137243032455444,1.4118518829345703,1.412052035331726,1.4143389463424683,1.4122134447097778,1.413228154182434,1.413304090499878,1.4106873273849487,1.4149384498596191,1.4218279123306274,1.4215829372406006,1.4120807647705078,1.4137862920761108,1.413206934928894,1.41637122631073,1.4172111749649048,1.4131927490234375,1.415345311164856,1.4200515747070312,1.4163818359375,1.4192932844161987,1.4163486957550049,1.4152257442474365,1.417035698890686,1.4152945280075073,1.414180874824524,1.4144258499145508,1.4133654832839966,1.4137582778930664,1.4131263494491577,1.4100379943847656,1.4144765138626099,1.4138439893722534,1.4147683382034302,1.4155066013336182,1.4145835638046265,1.4123711585998535,1.4128919839859009,1.4150203466415405,1.4095396995544434,1.4143457412719727,1.4168206453323364,1.4120557308197021,1.4150192737579346,1.4151874780654907,1.4139518737792969,1.413672685623169,1.4144219160079956,1.4122015237808228,1.4099560976028442,1.4099647998809814,1.407503366470337,1.4111316204071045,1.4106881618499756,1.4121233224868774,1.412923812866211,1.4132730960845947],\"yaxis\":\"y\",\"type\":\"scatter\"},{\"hovertemplate\":\"variable=validation history<br>epoch=%{x}<br>value=%{y}<extra></extra>\",\"legendgroup\":\"validation history\",\"line\":{\"color\":\"#EF553B\",\"dash\":\"solid\"},\"marker\":{\"symbol\":\"circle\"},\"mode\":\"lines\",\"name\":\"validation history\",\"orientation\":\"v\",\"showlegend\":true,\"x\":[0,1,2,3,4,5,6,7,8,9,10,11,12,13,14,15,16,17,18,19,20,21,22,23,24,25,26,27,28,29,30,31,32,33,34,35,36,37,38,39,40,41,42,43,44,45,46,47,48,49,50,51,52,53,54,55,56,57,58,59,60,61,62,63,64,65,66,67,68,69,70,71,72,73,74,75,76,77,78,79,80,81,82,83,84,85,86,87,88,89,90,91,92,93,94,95,96,97,98,99,100,101,102,103,104,105,106,107,108,109,110,111,112,113,114,115,116,117,118,119,120,121,122,123,124,125,126,127,128,129,130,131,132,133,134,135,136,137,138,139,140,141,142,143,144,145,146,147,148,149,150,151,152,153,154,155,156,157,158,159,160,161,162,163,164,165,166,167,168,169,170,171,172,173,174,175,176,177,178,179,180,181,182,183,184,185,186,187,188,189,190,191,192,193,194,195,196,197,198,199,200,201,202,203,204,205,206,207,208,209,210,211,212,213,214,215,216,217,218,219,220,221,222,223,224,225,226,227,228,229,230,231,232,233,234,235,236,237,238,239,240,241,242,243,244,245,246,247,248,249,250,251,252,253,254,255,256,257,258,259,260,261,262,263,264,265,266,267,268,269,270,271,272,273,274,275,276,277,278,279,280,281,282,283,284,285,286,287,288,289,290,291,292,293,294,295,296,297,298,299,300,301,302,303,304,305,306,307,308,309,310,311,312,313,314,315,316,317,318,319,320,321,322,323,324,325,326,327,328,329,330,331,332,333,334,335,336,337,338,339,340,341,342,343],\"xaxis\":\"x\",\"y\":[2.013568162918091,1.9109057188034058,1.8782508373260498,1.8635919094085693,1.8170827627182007,1.7653192281723022,1.7358242273330688,1.7220566272735596,1.7084273099899292,1.6872535943984985,1.6683779954910278,1.6602338552474976,1.6497255563735962,1.6491529941558838,1.6412094831466675,1.6298279762268066,1.6282390356063843,1.6237953901290894,1.6222854852676392,1.6212055683135986,1.6201446056365967,1.621185541152954,1.621092677116394,1.625928521156311,1.623598337173462,1.6273610591888428,1.6204209327697754,1.6219232082366943,1.6213239431381226,1.6199288368225098,1.6191617250442505,1.6180739402770996,1.621986985206604,1.6194058656692505,1.618842363357544,1.6149369478225708,1.6119955778121948,1.6103274822235107,1.6122937202453613,1.6125116348266602,1.6131170988082886,1.6088706254959106,1.6044111251831055,1.6082234382629395,1.6005637645721436,1.6046725511550903,1.6060482263565063,1.6035455465316772,1.6001992225646973,1.6019219160079956,1.601035475730896,1.600770115852356,1.6021473407745361,1.6041170358657837,1.6028715372085571,1.5995694398880005,1.603158950805664,1.6008814573287964,1.5991895198822021,1.5989596843719482,1.5996088981628418,1.596664547920227,1.598740577697754,1.5955653190612793,1.5978293418884277,1.6012600660324097,1.598679542541504,1.5984861850738525,1.5983083248138428,1.5974030494689941,1.5945641994476318,1.592328667640686,1.5908242464065552,1.5898517370224,1.5898807048797607,1.5943673849105835,1.5922510623931885,1.5937093496322632,1.5914851427078247,1.5916918516159058,1.59304678440094,1.5907262563705444,1.5946283340454102,1.5930372476577759,1.5942691564559937,1.5845043659210205,1.5920387506484985,1.5928571224212646,1.589333176612854,1.5921719074249268,1.5873807668685913,1.5853277444839478,1.5801868438720703,1.5804575681686401,1.5790735483169556,1.5786091089248657,1.5725517272949219,1.572037935256958,1.5635439157485962,1.5601634979248047,1.556596279144287,1.561105489730835,1.546930193901062,1.5588579177856445,1.5445436239242554,1.5486482381820679,1.5419504642486572,1.546035885810852,1.5350322723388672,1.5348188877105713,1.5342901945114136,1.5337905883789062,1.5284665822982788,1.528505563735962,1.5217921733856201,1.5213723182678223,1.5208491086959839,1.5219221115112305,1.5188876390457153,1.5127735137939453,1.5168840885162354,1.5198460817337036,1.5112769603729248,1.5127861499786377,1.5082577466964722,1.5129172801971436,1.5085068941116333,1.5099397897720337,1.506063461303711,1.504912257194519,1.5102206468582153,1.5051130056381226,1.502158284187317,1.5048924684524536,1.504112958908081,1.503584861755371,1.5025007724761963,1.5013909339904785,1.504838228225708,1.5050487518310547,1.5055187940597534,1.5001177787780762,1.5011149644851685,1.5024226903915405,1.5011502504348755,1.5021858215332031,1.507253885269165,1.5009567737579346,1.498622179031372,1.503637433052063,1.505591630935669,1.5024399757385254,1.503162145614624,1.5008984804153442,1.4988397359848022,1.5005590915679932,1.4972717761993408,1.5012292861938477,1.5011645555496216,1.499489665031433,1.5018216371536255,1.499337911605835,1.5025935173034668,1.4956640005111694,1.4986196756362915,1.5000931024551392,1.4981722831726074,1.4981365203857422,1.4961063861846924,1.4999282360076904,1.5024462938308716,1.495652675628662,1.4982279539108276,1.4964054822921753,1.4969351291656494,1.4964503049850464,1.498111367225647,1.4982701539993286,1.4960980415344238,1.4992785453796387,1.4946125745773315,1.4948769807815552,1.4952571392059326,1.4971829652786255,1.4977227449417114,1.494766116142273,1.498531460762024,1.4963483810424805,1.496846318244934,1.4930399656295776,1.4936403036117554,1.4951640367507935,1.4941022396087646,1.4951393604278564,1.4969573020935059,1.4958720207214355,1.4937299489974976,1.492695689201355,1.4935067892074585,1.4946445226669312,1.4875380992889404,1.4921245574951172,1.4945515394210815,1.4928810596466064,1.4946969747543335,1.4962241649627686,1.4929651021957397,1.4915692806243896,1.4923299551010132,1.4940648078918457,1.4922308921813965,1.4926787614822388,1.4937790632247925,1.4928375482559204,1.494132161140442,1.4972023963928223,1.4917656183242798,1.4911904335021973,1.4920228719711304,1.4891985654830933,1.4908368587493896,1.4937152862548828,1.493072271347046,1.4900321960449219,1.4925023317337036,1.4944347143173218,1.4927808046340942,1.4934943914413452,1.4909172058105469,1.4912115335464478,1.4907183647155762,1.4889918565750122,1.4915300607681274,1.4911013841629028,1.4921016693115234,1.4990723133087158,1.4896767139434814,1.4904534816741943,1.4878524541854858,1.4900517463684082,1.4954270124435425,1.4910610914230347,1.4960955381393433,1.4877043962478638,1.4926429986953735,1.4886857271194458,1.4914493560791016,1.491411805152893,1.4966377019882202,1.4866247177124023,1.4905253648757935,1.4900633096694946,1.4968894720077515,1.4941803216934204,1.4898654222488403,1.487686038017273,1.4897184371948242,1.492818832397461,1.4886990785598755,1.487904667854309,1.4879553318023682,1.487908124923706,1.4875853061676025,1.4881398677825928,1.4926354885101318,1.489134430885315,1.4853068590164185,1.4864294528961182,1.4881954193115234,1.4865373373031616,1.489227056503296,1.49312424659729,1.4883514642715454,1.4893622398376465,1.490958571434021,1.4879124164581299,1.4892851114273071,1.4909727573394775,1.4931483268737793,1.48910391330719,1.4892709255218506,1.4858129024505615,1.4862282276153564,1.4847259521484375,1.4911997318267822,1.4895658493041992,1.4872208833694458,1.4893567562103271,1.4873642921447754,1.488706111907959,1.4898217916488647,1.4880359172821045,1.4905753135681152,1.4902886152267456,1.4905974864959717,1.4935306310653687,1.499846339225769,1.4907547235488892,1.4884930849075317,1.4904725551605225,1.490209937095642,1.4900633096694946,1.4853646755218506,1.4924545288085938,1.490307092666626,1.4852899312973022,1.4894697666168213,1.4902998208999634,1.4900732040405273,1.4938400983810425,1.4887762069702148,1.4919875860214233,1.489185094833374,1.4897174835205078,1.4890586137771606,1.4848401546478271,1.4879519939422607,1.4916046857833862,1.4892122745513916,1.4889975786209106,1.4868930578231812,1.4901341199874878,1.4895488023757935,1.4902586936950684,1.4898688793182373,1.489358901977539,1.4890697002410889,1.4903571605682373,1.4873583316802979,1.4886034727096558,1.4887540340423584,1.4893742799758911,1.4901021718978882,1.4880629777908325,1.4876152276992798,1.4906610250473022,1.4885780811309814,1.4886493682861328,1.487417459487915,1.4848942756652832,1.48880934715271,1.488257884979248,1.4857559204101562,1.4887702465057373],\"yaxis\":\"y\",\"type\":\"scatter\"}],                        {\"template\":{\"data\":{\"histogram2dcontour\":[{\"type\":\"histogram2dcontour\",\"colorbar\":{\"outlinewidth\":0,\"ticks\":\"\"},\"colorscale\":[[0.0,\"#0d0887\"],[0.1111111111111111,\"#46039f\"],[0.2222222222222222,\"#7201a8\"],[0.3333333333333333,\"#9c179e\"],[0.4444444444444444,\"#bd3786\"],[0.5555555555555556,\"#d8576b\"],[0.6666666666666666,\"#ed7953\"],[0.7777777777777778,\"#fb9f3a\"],[0.8888888888888888,\"#fdca26\"],[1.0,\"#f0f921\"]]}],\"choropleth\":[{\"type\":\"choropleth\",\"colorbar\":{\"outlinewidth\":0,\"ticks\":\"\"}}],\"histogram2d\":[{\"type\":\"histogram2d\",\"colorbar\":{\"outlinewidth\":0,\"ticks\":\"\"},\"colorscale\":[[0.0,\"#0d0887\"],[0.1111111111111111,\"#46039f\"],[0.2222222222222222,\"#7201a8\"],[0.3333333333333333,\"#9c179e\"],[0.4444444444444444,\"#bd3786\"],[0.5555555555555556,\"#d8576b\"],[0.6666666666666666,\"#ed7953\"],[0.7777777777777778,\"#fb9f3a\"],[0.8888888888888888,\"#fdca26\"],[1.0,\"#f0f921\"]]}],\"heatmap\":[{\"type\":\"heatmap\",\"colorbar\":{\"outlinewidth\":0,\"ticks\":\"\"},\"colorscale\":[[0.0,\"#0d0887\"],[0.1111111111111111,\"#46039f\"],[0.2222222222222222,\"#7201a8\"],[0.3333333333333333,\"#9c179e\"],[0.4444444444444444,\"#bd3786\"],[0.5555555555555556,\"#d8576b\"],[0.6666666666666666,\"#ed7953\"],[0.7777777777777778,\"#fb9f3a\"],[0.8888888888888888,\"#fdca26\"],[1.0,\"#f0f921\"]]}],\"heatmapgl\":[{\"type\":\"heatmapgl\",\"colorbar\":{\"outlinewidth\":0,\"ticks\":\"\"},\"colorscale\":[[0.0,\"#0d0887\"],[0.1111111111111111,\"#46039f\"],[0.2222222222222222,\"#7201a8\"],[0.3333333333333333,\"#9c179e\"],[0.4444444444444444,\"#bd3786\"],[0.5555555555555556,\"#d8576b\"],[0.6666666666666666,\"#ed7953\"],[0.7777777777777778,\"#fb9f3a\"],[0.8888888888888888,\"#fdca26\"],[1.0,\"#f0f921\"]]}],\"contourcarpet\":[{\"type\":\"contourcarpet\",\"colorbar\":{\"outlinewidth\":0,\"ticks\":\"\"}}],\"contour\":[{\"type\":\"contour\",\"colorbar\":{\"outlinewidth\":0,\"ticks\":\"\"},\"colorscale\":[[0.0,\"#0d0887\"],[0.1111111111111111,\"#46039f\"],[0.2222222222222222,\"#7201a8\"],[0.3333333333333333,\"#9c179e\"],[0.4444444444444444,\"#bd3786\"],[0.5555555555555556,\"#d8576b\"],[0.6666666666666666,\"#ed7953\"],[0.7777777777777778,\"#fb9f3a\"],[0.8888888888888888,\"#fdca26\"],[1.0,\"#f0f921\"]]}],\"surface\":[{\"type\":\"surface\",\"colorbar\":{\"outlinewidth\":0,\"ticks\":\"\"},\"colorscale\":[[0.0,\"#0d0887\"],[0.1111111111111111,\"#46039f\"],[0.2222222222222222,\"#7201a8\"],[0.3333333333333333,\"#9c179e\"],[0.4444444444444444,\"#bd3786\"],[0.5555555555555556,\"#d8576b\"],[0.6666666666666666,\"#ed7953\"],[0.7777777777777778,\"#fb9f3a\"],[0.8888888888888888,\"#fdca26\"],[1.0,\"#f0f921\"]]}],\"mesh3d\":[{\"type\":\"mesh3d\",\"colorbar\":{\"outlinewidth\":0,\"ticks\":\"\"}}],\"scatter\":[{\"fillpattern\":{\"fillmode\":\"overlay\",\"size\":10,\"solidity\":0.2},\"type\":\"scatter\"}],\"parcoords\":[{\"type\":\"parcoords\",\"line\":{\"colorbar\":{\"outlinewidth\":0,\"ticks\":\"\"}}}],\"scatterpolargl\":[{\"type\":\"scatterpolargl\",\"marker\":{\"colorbar\":{\"outlinewidth\":0,\"ticks\":\"\"}}}],\"bar\":[{\"error_x\":{\"color\":\"#2a3f5f\"},\"error_y\":{\"color\":\"#2a3f5f\"},\"marker\":{\"line\":{\"color\":\"#E5ECF6\",\"width\":0.5},\"pattern\":{\"fillmode\":\"overlay\",\"size\":10,\"solidity\":0.2}},\"type\":\"bar\"}],\"scattergeo\":[{\"type\":\"scattergeo\",\"marker\":{\"colorbar\":{\"outlinewidth\":0,\"ticks\":\"\"}}}],\"scatterpolar\":[{\"type\":\"scatterpolar\",\"marker\":{\"colorbar\":{\"outlinewidth\":0,\"ticks\":\"\"}}}],\"histogram\":[{\"marker\":{\"pattern\":{\"fillmode\":\"overlay\",\"size\":10,\"solidity\":0.2}},\"type\":\"histogram\"}],\"scattergl\":[{\"type\":\"scattergl\",\"marker\":{\"colorbar\":{\"outlinewidth\":0,\"ticks\":\"\"}}}],\"scatter3d\":[{\"type\":\"scatter3d\",\"line\":{\"colorbar\":{\"outlinewidth\":0,\"ticks\":\"\"}},\"marker\":{\"colorbar\":{\"outlinewidth\":0,\"ticks\":\"\"}}}],\"scattermapbox\":[{\"type\":\"scattermapbox\",\"marker\":{\"colorbar\":{\"outlinewidth\":0,\"ticks\":\"\"}}}],\"scatterternary\":[{\"type\":\"scatterternary\",\"marker\":{\"colorbar\":{\"outlinewidth\":0,\"ticks\":\"\"}}}],\"scattercarpet\":[{\"type\":\"scattercarpet\",\"marker\":{\"colorbar\":{\"outlinewidth\":0,\"ticks\":\"\"}}}],\"carpet\":[{\"aaxis\":{\"endlinecolor\":\"#2a3f5f\",\"gridcolor\":\"white\",\"linecolor\":\"white\",\"minorgridcolor\":\"white\",\"startlinecolor\":\"#2a3f5f\"},\"baxis\":{\"endlinecolor\":\"#2a3f5f\",\"gridcolor\":\"white\",\"linecolor\":\"white\",\"minorgridcolor\":\"white\",\"startlinecolor\":\"#2a3f5f\"},\"type\":\"carpet\"}],\"table\":[{\"cells\":{\"fill\":{\"color\":\"#EBF0F8\"},\"line\":{\"color\":\"white\"}},\"header\":{\"fill\":{\"color\":\"#C8D4E3\"},\"line\":{\"color\":\"white\"}},\"type\":\"table\"}],\"barpolar\":[{\"marker\":{\"line\":{\"color\":\"#E5ECF6\",\"width\":0.5},\"pattern\":{\"fillmode\":\"overlay\",\"size\":10,\"solidity\":0.2}},\"type\":\"barpolar\"}],\"pie\":[{\"automargin\":true,\"type\":\"pie\"}]},\"layout\":{\"autotypenumbers\":\"strict\",\"colorway\":[\"#636efa\",\"#EF553B\",\"#00cc96\",\"#ab63fa\",\"#FFA15A\",\"#19d3f3\",\"#FF6692\",\"#B6E880\",\"#FF97FF\",\"#FECB52\"],\"font\":{\"color\":\"#2a3f5f\"},\"hovermode\":\"closest\",\"hoverlabel\":{\"align\":\"left\"},\"paper_bgcolor\":\"white\",\"plot_bgcolor\":\"#E5ECF6\",\"polar\":{\"bgcolor\":\"#E5ECF6\",\"angularaxis\":{\"gridcolor\":\"white\",\"linecolor\":\"white\",\"ticks\":\"\"},\"radialaxis\":{\"gridcolor\":\"white\",\"linecolor\":\"white\",\"ticks\":\"\"}},\"ternary\":{\"bgcolor\":\"#E5ECF6\",\"aaxis\":{\"gridcolor\":\"white\",\"linecolor\":\"white\",\"ticks\":\"\"},\"baxis\":{\"gridcolor\":\"white\",\"linecolor\":\"white\",\"ticks\":\"\"},\"caxis\":{\"gridcolor\":\"white\",\"linecolor\":\"white\",\"ticks\":\"\"}},\"coloraxis\":{\"colorbar\":{\"outlinewidth\":0,\"ticks\":\"\"}},\"colorscale\":{\"sequential\":[[0.0,\"#0d0887\"],[0.1111111111111111,\"#46039f\"],[0.2222222222222222,\"#7201a8\"],[0.3333333333333333,\"#9c179e\"],[0.4444444444444444,\"#bd3786\"],[0.5555555555555556,\"#d8576b\"],[0.6666666666666666,\"#ed7953\"],[0.7777777777777778,\"#fb9f3a\"],[0.8888888888888888,\"#fdca26\"],[1.0,\"#f0f921\"]],\"sequentialminus\":[[0.0,\"#0d0887\"],[0.1111111111111111,\"#46039f\"],[0.2222222222222222,\"#7201a8\"],[0.3333333333333333,\"#9c179e\"],[0.4444444444444444,\"#bd3786\"],[0.5555555555555556,\"#d8576b\"],[0.6666666666666666,\"#ed7953\"],[0.7777777777777778,\"#fb9f3a\"],[0.8888888888888888,\"#fdca26\"],[1.0,\"#f0f921\"]],\"diverging\":[[0,\"#8e0152\"],[0.1,\"#c51b7d\"],[0.2,\"#de77ae\"],[0.3,\"#f1b6da\"],[0.4,\"#fde0ef\"],[0.5,\"#f7f7f7\"],[0.6,\"#e6f5d0\"],[0.7,\"#b8e186\"],[0.8,\"#7fbc41\"],[0.9,\"#4d9221\"],[1,\"#276419\"]]},\"xaxis\":{\"gridcolor\":\"white\",\"linecolor\":\"white\",\"ticks\":\"\",\"title\":{\"standoff\":15},\"zerolinecolor\":\"white\",\"automargin\":true,\"zerolinewidth\":2},\"yaxis\":{\"gridcolor\":\"white\",\"linecolor\":\"white\",\"ticks\":\"\",\"title\":{\"standoff\":15},\"zerolinecolor\":\"white\",\"automargin\":true,\"zerolinewidth\":2},\"scene\":{\"xaxis\":{\"backgroundcolor\":\"#E5ECF6\",\"gridcolor\":\"white\",\"linecolor\":\"white\",\"showbackground\":true,\"ticks\":\"\",\"zerolinecolor\":\"white\",\"gridwidth\":2},\"yaxis\":{\"backgroundcolor\":\"#E5ECF6\",\"gridcolor\":\"white\",\"linecolor\":\"white\",\"showbackground\":true,\"ticks\":\"\",\"zerolinecolor\":\"white\",\"gridwidth\":2},\"zaxis\":{\"backgroundcolor\":\"#E5ECF6\",\"gridcolor\":\"white\",\"linecolor\":\"white\",\"showbackground\":true,\"ticks\":\"\",\"zerolinecolor\":\"white\",\"gridwidth\":2}},\"shapedefaults\":{\"line\":{\"color\":\"#2a3f5f\"}},\"annotationdefaults\":{\"arrowcolor\":\"#2a3f5f\",\"arrowhead\":0,\"arrowwidth\":1},\"geo\":{\"bgcolor\":\"white\",\"landcolor\":\"#E5ECF6\",\"subunitcolor\":\"white\",\"showland\":true,\"showlakes\":true,\"lakecolor\":\"white\"},\"title\":{\"x\":0.05},\"mapbox\":{\"style\":\"light\"}}},\"xaxis\":{\"anchor\":\"y\",\"domain\":[0.0,1.0],\"title\":{\"text\":\"epoch\"}},\"yaxis\":{\"anchor\":\"x\",\"domain\":[0.0,1.0],\"title\":{\"text\":\"value\"}},\"legend\":{\"title\":{\"text\":\"variable\"},\"tracegroupgap\":0},\"title\":{\"text\":\"<b>\\u041e\\u0448\\u0438\\u0431\\u043a\\u0430 \\u043d\\u0430 \\u0442\\u0440\\u0435\\u043d\\u0438\\u0440\\u043e\\u0432\\u043a\\u0435 \\u0438 \\u0432\\u0430\\u043b\\u0438\\u0434\\u0430\\u0446\\u0438\\u0438 \\u043d\\u0430 \\u044d\\u043f\\u043e\\u0445\\u0443 \\u043e\\u0431\\u0443\\u0447\\u0435\\u043d\\u0438\\u044f</b>\"}},                        {\"responsive\": true}                    ).then(function(){\n",
       "                            \n",
       "var gd = document.getElementById('1390d746-69dc-47dc-80ef-fd1f5fd35543');\n",
       "var x = new MutationObserver(function (mutations, observer) {{\n",
       "        var display = window.getComputedStyle(gd).display;\n",
       "        if (!display || display === 'none') {{\n",
       "            console.log([gd, 'removed!']);\n",
       "            Plotly.purge(gd);\n",
       "            observer.disconnect();\n",
       "        }}\n",
       "}});\n",
       "\n",
       "// Listen for the removal of the full notebook cells\n",
       "var notebookContainer = gd.closest('#notebook-container');\n",
       "if (notebookContainer) {{\n",
       "    x.observe(notebookContainer, {childList: true});\n",
       "}}\n",
       "\n",
       "// Listen for the clearing of the current output cell\n",
       "var outputEl = gd.closest('.output');\n",
       "if (outputEl) {{\n",
       "    x.observe(outputEl, {childList: true});\n",
       "}}\n",
       "\n",
       "                        })                };                });            </script>        </div>"
      ]
     },
     "metadata": {},
     "output_type": "display_data"
    }
   ],
   "source": [
    "# !pip install -U kaleido  # На многих устройствах нет kaleido, чтобы сохранить график\n",
    "\n",
    "import plotly.express as px\n",
    "fig = px.line(history, x='epoch', y=['train history', 'validation history'], \n",
    "              title='<b>Ошибка на тренировке и валидации на эпоху обучения</b>')\n",
    "\n",
    "# fig.write_image('./Trained Embeddings/training plots.png', width=1000, height=600, scale=2)\n",
    "fig.show()"
   ]
  },
  {
   "attachments": {},
   "cell_type": "markdown",
   "metadata": {
    "pycharm": {
     "name": "#%% md\n"
    }
   },
   "source": [
    "### График полученный на последнем обучении\n",
    "![last_train](./Trained%20Embeddings/training%20plots.png)"
   ]
  },
  {
   "attachments": {},
   "cell_type": "markdown",
   "metadata": {
    "pycharm": {
     "name": "#%% md\n"
    }
   },
   "source": [
    "### График обучения лучшей модели\n",
    "![best_train](./Trained%20Embeddings/best%20training%20plots.png)"
   ]
  },
  {
   "cell_type": "markdown",
   "metadata": {
    "pycharm": {
     "name": "#%% md\n"
    }
   },
   "source": [
    "### Сохранение обученных весов"
   ]
  },
  {
   "cell_type": "code",
   "execution_count": 46,
   "metadata": {
    "pycharm": {
     "name": "#%%\n"
    }
   },
   "outputs": [],
   "source": [
    "# Сохраняем эмбеддинги, ради которых и было обучение \n",
    "torch.save(model.entity_embedding.weight.data.cpu(), './Trained Embeddings/entity_embs.pt') \n",
    "torch.save(model.w_r_emb.weight.data.cpu(), './Trained Embeddings/w_r_emb (normal_vectors).pt')\n",
    "torch.save(model.d_r_emb.weight.data.cpu(), './Trained Embeddings/d_r_emb (hyperplane relations).pt')"
   ]
  },
  {
   "cell_type": "markdown",
   "metadata": {
    "pycharm": {
     "name": "#%% md\n"
    }
   },
   "source": [
    "### Загрузка обученных весов"
   ]
  },
  {
   "cell_type": "code",
   "execution_count": 10,
   "metadata": {
    "pycharm": {
     "name": "#%%\n"
    }
   },
   "outputs": [],
   "source": [
    "# Загрузка обученной модели\n",
    "# torch.load - ....\n",
    "\n",
    "model.load_trained_embeddings(torch.load('./Trained Embeddings/best entity_embs.pt').to(device),\n",
    "                              torch.load('./Trained Embeddings/best d_r_emb (hyperplane relations).pt').to(device),\n",
    "                              torch.load('./Trained Embeddings/best w_r_emb (normal_vectors).pt').to(device))\n"
   ]
  },
  {
   "cell_type": "markdown",
   "metadata": {
    "pycharm": {
     "name": "#%% md\n"
    }
   },
   "source": [
    "# Тестирование"
   ]
  },
  {
   "cell_type": "code",
   "execution_count": 11,
   "metadata": {
    "pycharm": {
     "name": "#%%\n"
    }
   },
   "outputs": [
    {
     "name": "stdout",
     "output_type": "stream",
     "text": [
      "train : 3134 | hits : 2955\n",
      "HIT@10 :  0.471\n",
      "\n",
      "CPU times: user 26min 40s, sys: 38min 27s, total: 1h 5min 8s\n",
      "Wall time: 1h 1min 53s\n"
     ]
    }
   ],
   "source": [
    "%%time\n",
    "hits = 0\n",
    "\n",
    "model.eval()  # переводим модель в режим оценки\n",
    "\n",
    "for i, triplet in enumerate(test_triplets):\n",
    "    # повторяет triplet построчно в количестве len(entities) = 40943 раз\n",
    "    head_replaced = torch.tile(triplet, (len(entities), 1))\n",
    "    head_replaced[:, 0] = entities  # заменяет head на все возможные значения entities\n",
    "\n",
    "    distance = model.distance(*head_replaced.T)  # вычисляем расстояние для каждого триплета\n",
    "    # 10 минимальных значений расстояний, для которых мы находим индексы головных сущностей\n",
    "    heads_top_10 = distance.topk(10, largest=False).indices\n",
    "    \n",
    "    # проверяем, что индекс настоящей головной сушности в топ10 для сущностей с минимальным расстоянием\n",
    "    if triplet[0] in heads_top_10:\n",
    "        hits += 1\n",
    "\n",
    "    tail_replaced = torch.tile(triplet, (len(entities), 1))\n",
    "    tail_replaced[:, 2] = entities\n",
    "\n",
    "    distance = model.distance(*tail_replaced.T)\n",
    "\n",
    "    tails_top_10 = distance.topk(10, largest=False).indices\n",
    "    # проверяем, что индекс настоящей хвостовой сущности в топ10 для сущностей с минимальным расстоянием\n",
    "    if triplet[2] in tails_top_10:\n",
    "        hits += 1\n",
    "        \n",
    "    print(f'train : {i + 1:4d} | hits : {hits:4d}', end='\\r')\n",
    "    \n",
    "    \n",
    "print('')\n",
    "\n",
    "hit_10 = hits / (2 * len(test_triplets))\n",
    "print(f'HIT@10 : {hit_10 : 0.3f}\\n')"
   ]
  },
  {
   "cell_type": "markdown",
   "metadata": {
    "pycharm": {
     "name": "#%% md\n"
    }
   },
   "source": [
    "### Сравнение с другими моделями\n",
    "\n",
    "![TranH_COMP](./WordNet18RR/example_screen/TranH%20comparison.png)\n",
    "\n",
    "[https://paperswithcode.com/sota/link-prediction-on-wn18rr](https://paperswithcode.com/sota/link-prediction-on-wn18rr)"
   ]
  }
 ],
 "metadata": {
  "kernelspec": {
   "display_name": "Python 3 (ipykernel)",
   "language": "python",
   "name": "python3"
  },
  "language_info": {
   "codemirror_mode": {
    "name": "ipython",
    "version": 3
   },
   "file_extension": ".py",
   "mimetype": "text/x-python",
   "name": "python",
   "nbconvert_exporter": "python",
   "pygments_lexer": "ipython3",
   "version": "3.9.6"
  }
 },
 "nbformat": 4,
 "nbformat_minor": 1
}